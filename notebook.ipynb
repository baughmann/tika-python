{
 "cells": [
  {
   "cell_type": "code",
   "execution_count": 1,
   "metadata": {},
   "outputs": [
    {
     "data": {
      "text/plain": [
       "False"
      ]
     },
     "execution_count": 1,
     "metadata": {},
     "output_type": "execute_result"
    }
   ],
   "source": [
    "import jpype\n",
    "\n",
    "jpype.isJVMStarted()"
   ]
  },
  {
   "cell_type": "code",
   "execution_count": 2,
   "metadata": {},
   "outputs": [],
   "source": [
    "import jpype\n",
    "\n",
    "\n",
    "if not jpype.isJVMStarted():\n",
    "        jpype.startJVM(classpath=[\"/home/nbaughman/Projects/tika-python/src/tika/jars/tika-app-3.0.0.jar\"])"
   ]
  },
  {
   "cell_type": "code",
   "execution_count": 3,
   "metadata": {},
   "outputs": [],
   "source": [
    "import jpype\n",
    "import jpype.imports\n",
    "from pathlib import Path\n",
    "import jpype.imports\n",
    "from jpype.types import *\n",
    "from pydantic import BaseModel\n",
    "\n",
    "\n",
    "def initialize_tika():\n",
    "    if not jpype.isJVMStarted():\n",
    "        jpype.startJVM(classpath=[\"/home/nbaughman/Projects/tika-python/src/tika/jars/tika-app-3.0.0.jar\"])\n",
    "    \n",
    "    from org.apache.tika import Tika\n",
    "    return Tika()\n",
    "\n",
    "def parse_document(file_path):\n",
    "    tika = initialize_tika()\n",
    "    \n",
    "    from org.apache.tika.metadata import Metadata\n",
    "    from java.io import FileInputStream\n",
    "\n",
    "    metadata = Metadata()\n",
    "    input_stream = FileInputStream(str(file_path))\n",
    "    \n",
    "    try:\n",
    "        content = tika.parseToString(input_stream, metadata)\n",
    "        # Convert Java strings to Python strings for both keys and values\n",
    "        metadata_dict = {str(key): str(metadata.get(key)) for key in metadata.names()}\n",
    "        return content, metadata\n",
    "    finally:\n",
    "        input_stream.close()"
   ]
  },
  {
   "cell_type": "code",
   "execution_count": 6,
   "metadata": {},
   "outputs": [],
   "source": [
    "content, metadata = parse_document(Path(\"/home/nbaughman/Downloads/samples/demo.docx\"))"
   ]
  },
  {
   "cell_type": "code",
   "execution_count": 7,
   "metadata": {},
   "outputs": [
    {
     "data": {
      "text/plain": [
       "'application/vnd.openxmlformats-officedocument.wordprocessingml.document'"
      ]
     },
     "execution_count": 7,
     "metadata": {},
     "output_type": "execute_result"
    }
   ],
   "source": [
    "metadata.get(\"Content-Type\")"
   ]
  }
 ],
 "metadata": {
  "kernelspec": {
   "display_name": ".venv",
   "language": "python",
   "name": "python3"
  },
  "language_info": {
   "codemirror_mode": {
    "name": "ipython",
    "version": 3
   },
   "file_extension": ".py",
   "mimetype": "text/x-python",
   "name": "python",
   "nbconvert_exporter": "python",
   "pygments_lexer": "ipython3",
   "version": "3.12.8"
  }
 },
 "nbformat": 4,
 "nbformat_minor": 2
}
