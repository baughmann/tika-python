{
 "cells": [
  {
   "cell_type": "code",
   "execution_count": 1,
   "metadata": {},
   "outputs": [],
   "source": [
    "import jpype\n",
    "\n",
    "\n",
    "if not jpype.isJVMStarted():\n",
    "        jpype.startJVM(classpath=[\"/home/nbaughman/Projects/tika-python/src/tika/jars/tika-app-3.0.0.jar\"])"
   ]
  },
  {
   "cell_type": "code",
   "execution_count": 31,
   "metadata": {},
   "outputs": [],
   "source": [
    "import jpype\n",
    "import jpype.imports\n",
    "from pathlib import Path\n",
    "import jpype.imports\n",
    "from jpype.types import *\n",
    "from pydantic import BaseModel\n",
    "\n",
    "\n",
    "def initialize_tika():\n",
    "    if not jpype.isJVMStarted():\n",
    "        jpype.startJVM(classpath=[\"/home/nbaughman/Projects/tika-python/src/tika/jars/tika-app-3.0.0.jar\"])\n",
    "    \n",
    "    from org.apache.tika import Tika\n",
    "    return Tika()\n",
    "\n",
    "def parse_document(file_path):\n",
    "    tika = initialize_tika()\n",
    "    \n",
    "    from org.apache.tika.metadata import Metadata\n",
    "    from java.io import FileInputStream\n",
    "\n",
    "    metadata = Metadata()\n",
    "    input_stream = FileInputStream(str(file_path))\n",
    "    \n",
    "    try:\n",
    "        content = tika.parseToString(input_stream, metadata)\n",
    "        # Convert Java strings to Python strings for both keys and values\n",
    "        metadata_dict = {str(key): str(metadata.get(key)) for key in metadata.names()}\n",
    "        return content, metadata_dict\n",
    "    finally:\n",
    "        input_stream.close()"
   ]
  },
  {
   "cell_type": "code",
   "execution_count": null,
   "metadata": {},
   "outputs": [
    {
     "ename": "ValidationError",
     "evalue": "26 validation errors for TikaMetadata\n'cp:revision'\n  Keys should be strings [type=invalid_key, input_value='cp:revision', input_type=java.lang.String]\n    For further information visit https://errors.pydantic.dev/2.9/v/invalid_key\n'dc:description'\n  Keys should be strings [type=invalid_key, input_value='dc:description', input_type=java.lang.String]\n    For further information visit https://errors.pydantic.dev/2.9/v/invalid_key\n'extended-properties:AppVersion'\n  Keys should be strings [type=invalid_key, input_value='extended-properties:AppVersion', input_type=java.lang.String]\n    For further information visit https://errors.pydantic.dev/2.9/v/invalid_key\n'meta:paragraph-count'\n  Keys should be strings [type=invalid_key, input_value='meta:paragraph-count', input_type=java.lang.String]\n    For further information visit https://errors.pydantic.dev/2.9/v/invalid_key\n'meta:word-count'\n  Keys should be strings [type=invalid_key, input_value='meta:word-count', input_type=java.lang.String]\n    For further information visit https://errors.pydantic.dev/2.9/v/invalid_key\n'X-TIKA:Parsed-By-Full-Set'\n  Keys should be strings [type=invalid_key, input_value='X-TIKA:Parsed-By-Full-Set', input_type=java.lang.String]\n    For further information visit https://errors.pydantic.dev/2.9/v/invalid_key\n'dc:creator'\n  Keys should be strings [type=invalid_key, input_value='dc:creator', input_type=java.lang.String]\n    For further information visit https://errors.pydantic.dev/2.9/v/invalid_key\n'extended-properties:Company'\n  Keys should be strings [type=invalid_key, input_value='extended-properties:Company', input_type=java.lang.String]\n    For further information visit https://errors.pydantic.dev/2.9/v/invalid_key\n'dcterms:created'\n  Keys should be strings [type=invalid_key, input_value='dcterms:created', input_type=java.lang.String]\n    For further information visit https://errors.pydantic.dev/2.9/v/invalid_key\n'meta:line-count'\n  Keys should be strings [type=invalid_key, input_value='meta:line-count', input_type=java.lang.String]\n    For further information visit https://errors.pydantic.dev/2.9/v/invalid_key\n'dcterms:modified'\n  Keys should be strings [type=invalid_key, input_value='dcterms:modified', input_type=java.lang.String]\n    For further information visit https://errors.pydantic.dev/2.9/v/invalid_key\n'meta:character-count'\n  Keys should be strings [type=invalid_key, input_value='meta:character-count', input_type=java.lang.String]\n    For further information visit https://errors.pydantic.dev/2.9/v/invalid_key\n'meta:character-count-with-spaces'\n  Keys should be strings [type=invalid_key, input_value='meta:character-count-with-spaces', input_type=java.lang.String]\n    For further information visit https://errors.pydantic.dev/2.9/v/invalid_key\n'dc:title'\n  Keys should be strings [type=invalid_key, input_value='dc:title', input_type=java.lang.String]\n    For further information visit https://errors.pydantic.dev/2.9/v/invalid_key\n'extended-properties:TotalTime'\n  Keys should be strings [type=invalid_key, input_value='extended-properties:TotalTime', input_type=java.lang.String]\n    For further information visit https://errors.pydantic.dev/2.9/v/invalid_key\n'Content-Type'\n  Keys should be strings [type=invalid_key, input_value='Content-Type', input_type=java.lang.String]\n    For further information visit https://errors.pydantic.dev/2.9/v/invalid_key\n'dc:subject'\n  Keys should be strings [type=invalid_key, input_value='dc:subject', input_type=java.lang.String]\n    For further information visit https://errors.pydantic.dev/2.9/v/invalid_key\n'extended-properties:Application'\n  Keys should be strings [type=invalid_key, input_value='extended-properties:Application', input_type=java.lang.String]\n    For further information visit https://errors.pydantic.dev/2.9/v/invalid_key\n'meta:last-author'\n  Keys should be strings [type=invalid_key, input_value='meta:last-author', input_type=java.lang.String]\n    For further information visit https://errors.pydantic.dev/2.9/v/invalid_key\n'xmpTPg:NPages'\n  Keys should be strings [type=invalid_key, input_value='xmpTPg:NPages', input_type=java.lang.String]\n    For further information visit https://errors.pydantic.dev/2.9/v/invalid_key\n'extended-properties:Template'\n  Keys should be strings [type=invalid_key, input_value='extended-properties:Template', input_type=java.lang.String]\n    For further information visit https://errors.pydantic.dev/2.9/v/invalid_key\n'X-TIKA:Parsed-By'\n  Keys should be strings [type=invalid_key, input_value='X-TIKA:Parsed-By', input_type=java.lang.String]\n    For further information visit https://errors.pydantic.dev/2.9/v/invalid_key\n'extended-properties:DocSecurityString'\n  Keys should be strings [type=invalid_key, input_value='extended-properties:DocSecurityString', input_type=java.lang.String]\n    For further information visit https://errors.pydantic.dev/2.9/v/invalid_key\n'meta:keyword'\n  Keys should be strings [type=invalid_key, input_value='meta:keyword', input_type=java.lang.String]\n    For further information visit https://errors.pydantic.dev/2.9/v/invalid_key\n'meta:page-count'\n  Keys should be strings [type=invalid_key, input_value='meta:page-count', input_type=java.lang.String]\n    For further information visit https://errors.pydantic.dev/2.9/v/invalid_key\n'dc:publisher'\n  Keys should be strings [type=invalid_key, input_value='dc:publisher', input_type=java.lang.String]\n    For further information visit https://errors.pydantic.dev/2.9/v/invalid_key",
     "output_type": "error",
     "traceback": [
      "\u001b[0;31m---------------------------------------------------------------------------\u001b[0m",
      "\u001b[0;31mValidationError\u001b[0m                           Traceback (most recent call last)",
      "Cell \u001b[0;32mIn[32], line 1\u001b[0m\n\u001b[0;32m----> 1\u001b[0m content, metadata \u001b[38;5;241m=\u001b[39m \u001b[43mparse_document\u001b[49m\u001b[43m(\u001b[49m\u001b[43mPath\u001b[49m\u001b[43m(\u001b[49m\u001b[38;5;124;43m\"\u001b[39;49m\u001b[38;5;124;43m/home/nbaughman/Downloads/samples/demo.docx\u001b[39;49m\u001b[38;5;124;43m\"\u001b[39;49m\u001b[43m)\u001b[49m\u001b[43m)\u001b[49m\n",
      "Cell \u001b[0;32mIn[31], line 29\u001b[0m, in \u001b[0;36mparse_document\u001b[0;34m(file_path)\u001b[0m\n\u001b[1;32m     27\u001b[0m     content \u001b[38;5;241m=\u001b[39m tika\u001b[38;5;241m.\u001b[39mparseToString(input_stream, metadata)\n\u001b[1;32m     28\u001b[0m     metadata_dict \u001b[38;5;241m=\u001b[39m {key: metadata\u001b[38;5;241m.\u001b[39mget(key) \u001b[38;5;28;01mfor\u001b[39;00m key \u001b[38;5;129;01min\u001b[39;00m metadata\u001b[38;5;241m.\u001b[39mnames()}\n\u001b[0;32m---> 29\u001b[0m     \u001b[38;5;28;01mreturn\u001b[39;00m content, \u001b[43mTikaMetadata\u001b[49m\u001b[38;5;241;43m.\u001b[39;49m\u001b[43mmodel_validate\u001b[49m\u001b[43m(\u001b[49m\u001b[43mmetadata_dict\u001b[49m\u001b[43m)\u001b[49m\n\u001b[1;32m     30\u001b[0m \u001b[38;5;28;01mfinally\u001b[39;00m:\n\u001b[1;32m     31\u001b[0m     input_stream\u001b[38;5;241m.\u001b[39mclose()\n",
      "File \u001b[0;32m~/Projects/tika-python/.venv/lib/python3.12/site-packages/pydantic/main.py:596\u001b[0m, in \u001b[0;36mBaseModel.model_validate\u001b[0;34m(cls, obj, strict, from_attributes, context)\u001b[0m\n\u001b[1;32m    594\u001b[0m \u001b[38;5;66;03m# `__tracebackhide__` tells pytest and some other tools to omit this function from tracebacks\u001b[39;00m\n\u001b[1;32m    595\u001b[0m __tracebackhide__ \u001b[38;5;241m=\u001b[39m \u001b[38;5;28;01mTrue\u001b[39;00m\n\u001b[0;32m--> 596\u001b[0m \u001b[38;5;28;01mreturn\u001b[39;00m \u001b[38;5;28;43mcls\u001b[39;49m\u001b[38;5;241;43m.\u001b[39;49m\u001b[43m__pydantic_validator__\u001b[49m\u001b[38;5;241;43m.\u001b[39;49m\u001b[43mvalidate_python\u001b[49m\u001b[43m(\u001b[49m\n\u001b[1;32m    597\u001b[0m \u001b[43m    \u001b[49m\u001b[43mobj\u001b[49m\u001b[43m,\u001b[49m\u001b[43m \u001b[49m\u001b[43mstrict\u001b[49m\u001b[38;5;241;43m=\u001b[39;49m\u001b[43mstrict\u001b[49m\u001b[43m,\u001b[49m\u001b[43m \u001b[49m\u001b[43mfrom_attributes\u001b[49m\u001b[38;5;241;43m=\u001b[39;49m\u001b[43mfrom_attributes\u001b[49m\u001b[43m,\u001b[49m\u001b[43m \u001b[49m\u001b[43mcontext\u001b[49m\u001b[38;5;241;43m=\u001b[39;49m\u001b[43mcontext\u001b[49m\n\u001b[1;32m    598\u001b[0m \u001b[43m\u001b[49m\u001b[43m)\u001b[49m\n",
      "\u001b[0;31mValidationError\u001b[0m: 26 validation errors for TikaMetadata\n'cp:revision'\n  Keys should be strings [type=invalid_key, input_value='cp:revision', input_type=java.lang.String]\n    For further information visit https://errors.pydantic.dev/2.9/v/invalid_key\n'dc:description'\n  Keys should be strings [type=invalid_key, input_value='dc:description', input_type=java.lang.String]\n    For further information visit https://errors.pydantic.dev/2.9/v/invalid_key\n'extended-properties:AppVersion'\n  Keys should be strings [type=invalid_key, input_value='extended-properties:AppVersion', input_type=java.lang.String]\n    For further information visit https://errors.pydantic.dev/2.9/v/invalid_key\n'meta:paragraph-count'\n  Keys should be strings [type=invalid_key, input_value='meta:paragraph-count', input_type=java.lang.String]\n    For further information visit https://errors.pydantic.dev/2.9/v/invalid_key\n'meta:word-count'\n  Keys should be strings [type=invalid_key, input_value='meta:word-count', input_type=java.lang.String]\n    For further information visit https://errors.pydantic.dev/2.9/v/invalid_key\n'X-TIKA:Parsed-By-Full-Set'\n  Keys should be strings [type=invalid_key, input_value='X-TIKA:Parsed-By-Full-Set', input_type=java.lang.String]\n    For further information visit https://errors.pydantic.dev/2.9/v/invalid_key\n'dc:creator'\n  Keys should be strings [type=invalid_key, input_value='dc:creator', input_type=java.lang.String]\n    For further information visit https://errors.pydantic.dev/2.9/v/invalid_key\n'extended-properties:Company'\n  Keys should be strings [type=invalid_key, input_value='extended-properties:Company', input_type=java.lang.String]\n    For further information visit https://errors.pydantic.dev/2.9/v/invalid_key\n'dcterms:created'\n  Keys should be strings [type=invalid_key, input_value='dcterms:created', input_type=java.lang.String]\n    For further information visit https://errors.pydantic.dev/2.9/v/invalid_key\n'meta:line-count'\n  Keys should be strings [type=invalid_key, input_value='meta:line-count', input_type=java.lang.String]\n    For further information visit https://errors.pydantic.dev/2.9/v/invalid_key\n'dcterms:modified'\n  Keys should be strings [type=invalid_key, input_value='dcterms:modified', input_type=java.lang.String]\n    For further information visit https://errors.pydantic.dev/2.9/v/invalid_key\n'meta:character-count'\n  Keys should be strings [type=invalid_key, input_value='meta:character-count', input_type=java.lang.String]\n    For further information visit https://errors.pydantic.dev/2.9/v/invalid_key\n'meta:character-count-with-spaces'\n  Keys should be strings [type=invalid_key, input_value='meta:character-count-with-spaces', input_type=java.lang.String]\n    For further information visit https://errors.pydantic.dev/2.9/v/invalid_key\n'dc:title'\n  Keys should be strings [type=invalid_key, input_value='dc:title', input_type=java.lang.String]\n    For further information visit https://errors.pydantic.dev/2.9/v/invalid_key\n'extended-properties:TotalTime'\n  Keys should be strings [type=invalid_key, input_value='extended-properties:TotalTime', input_type=java.lang.String]\n    For further information visit https://errors.pydantic.dev/2.9/v/invalid_key\n'Content-Type'\n  Keys should be strings [type=invalid_key, input_value='Content-Type', input_type=java.lang.String]\n    For further information visit https://errors.pydantic.dev/2.9/v/invalid_key\n'dc:subject'\n  Keys should be strings [type=invalid_key, input_value='dc:subject', input_type=java.lang.String]\n    For further information visit https://errors.pydantic.dev/2.9/v/invalid_key\n'extended-properties:Application'\n  Keys should be strings [type=invalid_key, input_value='extended-properties:Application', input_type=java.lang.String]\n    For further information visit https://errors.pydantic.dev/2.9/v/invalid_key\n'meta:last-author'\n  Keys should be strings [type=invalid_key, input_value='meta:last-author', input_type=java.lang.String]\n    For further information visit https://errors.pydantic.dev/2.9/v/invalid_key\n'xmpTPg:NPages'\n  Keys should be strings [type=invalid_key, input_value='xmpTPg:NPages', input_type=java.lang.String]\n    For further information visit https://errors.pydantic.dev/2.9/v/invalid_key\n'extended-properties:Template'\n  Keys should be strings [type=invalid_key, input_value='extended-properties:Template', input_type=java.lang.String]\n    For further information visit https://errors.pydantic.dev/2.9/v/invalid_key\n'X-TIKA:Parsed-By'\n  Keys should be strings [type=invalid_key, input_value='X-TIKA:Parsed-By', input_type=java.lang.String]\n    For further information visit https://errors.pydantic.dev/2.9/v/invalid_key\n'extended-properties:DocSecurityString'\n  Keys should be strings [type=invalid_key, input_value='extended-properties:DocSecurityString', input_type=java.lang.String]\n    For further information visit https://errors.pydantic.dev/2.9/v/invalid_key\n'meta:keyword'\n  Keys should be strings [type=invalid_key, input_value='meta:keyword', input_type=java.lang.String]\n    For further information visit https://errors.pydantic.dev/2.9/v/invalid_key\n'meta:page-count'\n  Keys should be strings [type=invalid_key, input_value='meta:page-count', input_type=java.lang.String]\n    For further information visit https://errors.pydantic.dev/2.9/v/invalid_key\n'dc:publisher'\n  Keys should be strings [type=invalid_key, input_value='dc:publisher', input_type=java.lang.String]\n    For further information visit https://errors.pydantic.dev/2.9/v/invalid_key"
     ]
    }
   ],
   "source": [
    "content, metadata = parse_document(Path(\"/home/nbaughman/Downloads/samples/demo.docx\"))"
   ]
  },
  {
   "cell_type": "code",
   "execution_count": 3,
   "metadata": {},
   "outputs": [
    {
     "data": {
      "text/plain": [
       "{'cp:revision': '79',\n",
       " 'dc:description': 'Demonstration of DOCX support in calibre',\n",
       " 'extended-properties:AppVersion': '12.0000',\n",
       " 'meta:paragraph-count': '20',\n",
       " 'meta:word-count': '1518',\n",
       " 'X-TIKA:Parsed-By-Full-Set': 'org.apache.tika.parser.DefaultParser',\n",
       " 'dc:creator': 'Kovid Goyal',\n",
       " 'extended-properties:Company': '',\n",
       " 'dcterms:created': '2013-06-05T07:56:00Z',\n",
       " 'meta:line-count': '72',\n",
       " 'dcterms:modified': '2013-06-20T06:14:00Z',\n",
       " 'meta:character-count': '8657',\n",
       " 'meta:character-count-with-spaces': '10155',\n",
       " 'dc:title': 'DOCX Demo',\n",
       " 'extended-properties:TotalTime': '8540',\n",
       " 'Content-Type': 'application/vnd.openxmlformats-officedocument.wordprocessingml.document',\n",
       " 'dc:subject': 'calibre, docs, ebook, conversion',\n",
       " 'extended-properties:Application': 'Microsoft Office Word',\n",
       " 'meta:last-author': 'kovid',\n",
       " 'xmpTPg:NPages': '3',\n",
       " 'extended-properties:Template': 'Normal',\n",
       " 'X-TIKA:Parsed-By': 'org.apache.tika.parser.DefaultParser',\n",
       " 'extended-properties:DocSecurityString': 'None',\n",
       " 'meta:keyword': 'calibre, docs, ebook, conversion',\n",
       " 'meta:page-count': '3',\n",
       " 'dc:publisher': ''}"
      ]
     },
     "execution_count": 3,
     "metadata": {},
     "output_type": "execute_result"
    }
   ],
   "source": [
    "metadata"
   ]
  }
 ],
 "metadata": {
  "kernelspec": {
   "display_name": ".venv",
   "language": "python",
   "name": "python3"
  },
  "language_info": {
   "codemirror_mode": {
    "name": "ipython",
    "version": 3
   },
   "file_extension": ".py",
   "mimetype": "text/x-python",
   "name": "python",
   "nbconvert_exporter": "python",
   "pygments_lexer": "ipython3",
   "version": "3.12.8"
  }
 },
 "nbformat": 4,
 "nbformat_minor": 2
}
